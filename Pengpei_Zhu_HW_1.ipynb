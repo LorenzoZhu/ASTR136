{
 "cells": [
  {
   "cell_type": "code",
   "execution_count": 73,
   "metadata": {},
   "outputs": [],
   "source": [
    "#import the modules \n",
    "import numpy as np\n",
    "import matplotlib.pyplot as plt"
   ]
  },
  {
   "cell_type": "markdown",
   "metadata": {},
   "source": [
    "### Gaussian distribution"
   ]
  },
  {
   "cell_type": "code",
   "execution_count": 94,
   "metadata": {},
   "outputs": [],
   "source": [
    "#define the main function,x is the imput array\n",
    "def Hist_Gaussian(x,u,o):\n",
    "    \n",
    "    #define the function for Gaussian distribution\n",
    "    def G(bins,u,o):\n",
    "        return np.exp((-(bins-u)**2/(2*o)))/(np.sqrt(2*np.pi)*o)\n",
    "    \n",
    "    #plot the histgram and plot the bins vs Gaussian function\n",
    "    plt.figure(figsize=(7,7))\n",
    "    count, bins, ignored = plt.hist(x, 30, density=True)\n",
    "    plt.plot(bins, G(bins,u,o), linewidth=2, color='r')\n",
    "    \n",
    "    #save the figure as pdf and return to show the figure\n",
    "    plt.savefig(\"Hist_Gaussian.pdf\")\n",
    "    \n",
    "    return plt.show()"
   ]
  },
  {
   "cell_type": "code",
   "execution_count": 95,
   "metadata": {},
   "outputs": [],
   "source": [
    "#use the np function to generates a set of 1000 random numbers,with mean=1 and RMS=2\n",
    "x = np.random.normal(1,2,1000)"
   ]
  },
  {
   "cell_type": "code",
   "execution_count": 96,
   "metadata": {},
   "outputs": [
    {
     "data": {
      "image/png": "[encoded data removed]",
      "text/plain": [
       "<Figure size 504x504 with 1 Axes>"
      ]
     },
     "metadata": {
      "needs_background": "light"
     },
     "output_type": "display_data"
    }
   ],
   "source": [
    "#perform the program\n",
    "Hist_Gaussian(x,1,2)"
   ]
  },
  {
   "cell_type": "markdown",
   "metadata": {},
   "source": [
    "### Extra Credit"
   ]
  },
  {
   "cell_type": "code",
   "execution_count": 148,
   "metadata": {},
   "outputs": [],
   "source": [
    "#import the modules needed\n",
    "import statistics\n",
    "from collections import Counter\n",
    "from scipy.special import factorial"
   ]
  },
  {
   "cell_type": "code",
   "execution_count": 156,
   "metadata": {},
   "outputs": [
    {
     "name": "stdout",
     "output_type": "stream",
     "text": [
      "mode 64\n",
      "frequency of mode 12\n"
     ]
    }
   ],
   "source": [
    "#generate 500 random integers from 1 to 100\n",
    "y = np.random.randint(1,100,500)\n",
    "\n",
    "#use the build-in function to get the mode\n",
    "mode = statistics.mode(y)\n",
    "#print the mode\n",
    "print(\"mode\",mode)\n",
    "\n",
    "#find the frequency of the mode\n",
    "#build a dictionary that counts the frequency for every integer form 1 to 100\n",
    "#the frequency of the mode would be the mth term in the dictionary\n",
    "#m is the mode value\n",
    "frequency = dict(Counter(sorted(y,key=int)))\n",
    "mode_frequency = frequency[mode]\n",
    "#print the frequency\n",
    "print(\"frequency of mode\",mode_frequency)"
   ]
  },
  {
   "cell_type": "code",
   "execution_count": 157,
   "metadata": {},
   "outputs": [
    {
     "name": "stdout",
     "output_type": "stream",
     "text": [
      "0.0036836153879077414\n"
     ]
    }
   ],
   "source": [
    "#caculate the poission probility for the mode to appear that many times\n",
    "m = 500/99\n",
    "P = np.exp(-m)*(m**mode_frequency)/factorial(mode_frequency,exact=False)\n",
    "print(P)"
   ]
  }
 ],
 "metadata": {
  "kernelspec": {
   "display_name": "Python 3",
   "language": "python",
   "name": "python3"
  },
  "language_info": {
   "codemirror_mode": {
    "name": "ipython",
    "version": 3
   },
   "file_extension": ".py",
   "mimetype": "text/x-python",
   "name": "python",
   "nbconvert_exporter": "python",
   "pygments_lexer": "ipython3",
   "version": "3.7.0"
  }
 },
 "nbformat": 4,
 "nbformat_minor": 2
}
